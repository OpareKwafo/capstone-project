{
 "cells": [
  {
   "cell_type": "code",
   "execution_count": 109,
   "metadata": {},
   "outputs": [],
   "source": [
    "import numpy as np\n",
    "import pandas as pd\n",
    "import matplotlib.pyplot as plt\n",
    "import seaborn as sns"
   ]
  },
  {
   "cell_type": "code",
   "execution_count": 110,
   "metadata": {},
   "outputs": [],
   "source": [
    "matches = pd.read_csv(\"matches_two.csv\")"
   ]
  },
  {
   "cell_type": "code",
   "execution_count": 111,
   "metadata": {},
   "outputs": [
    {
     "data": {
      "text/html": [
       "<div>\n",
       "<style scoped>\n",
       "    .dataframe tbody tr th:only-of-type {\n",
       "        vertical-align: middle;\n",
       "    }\n",
       "\n",
       "    .dataframe tbody tr th {\n",
       "        vertical-align: top;\n",
       "    }\n",
       "\n",
       "    .dataframe thead th {\n",
       "        text-align: right;\n",
       "    }\n",
       "</style>\n",
       "<table border=\"1\" class=\"dataframe\">\n",
       "  <thead>\n",
       "    <tr style=\"text-align: right;\">\n",
       "      <th></th>\n",
       "      <th>Unnamed: 0</th>\n",
       "      <th>date</th>\n",
       "      <th>time</th>\n",
       "      <th>comp</th>\n",
       "      <th>round</th>\n",
       "      <th>day</th>\n",
       "      <th>venue</th>\n",
       "      <th>result</th>\n",
       "      <th>gf</th>\n",
       "      <th>ga</th>\n",
       "      <th>...</th>\n",
       "      <th>match report</th>\n",
       "      <th>notes</th>\n",
       "      <th>sh</th>\n",
       "      <th>sot</th>\n",
       "      <th>dist</th>\n",
       "      <th>fk</th>\n",
       "      <th>pk</th>\n",
       "      <th>pkatt</th>\n",
       "      <th>season</th>\n",
       "      <th>team</th>\n",
       "    </tr>\n",
       "  </thead>\n",
       "  <tbody>\n",
       "    <tr>\n",
       "      <th>0</th>\n",
       "      <td>0</td>\n",
       "      <td>2022-08-13</td>\n",
       "      <td>21:00</td>\n",
       "      <td>La Liga</td>\n",
       "      <td>Matchweek 1</td>\n",
       "      <td>Sat</td>\n",
       "      <td>Home</td>\n",
       "      <td>D</td>\n",
       "      <td>0.0</td>\n",
       "      <td>0.0</td>\n",
       "      <td>...</td>\n",
       "      <td>Match Report</td>\n",
       "      <td>NaN</td>\n",
       "      <td>21.0</td>\n",
       "      <td>5.0</td>\n",
       "      <td>17.0</td>\n",
       "      <td>1.0</td>\n",
       "      <td>0.0</td>\n",
       "      <td>0.0</td>\n",
       "      <td>2023</td>\n",
       "      <td>Barcelona</td>\n",
       "    </tr>\n",
       "    <tr>\n",
       "      <th>1</th>\n",
       "      <td>1</td>\n",
       "      <td>2022-08-21</td>\n",
       "      <td>22:00</td>\n",
       "      <td>La Liga</td>\n",
       "      <td>Matchweek 2</td>\n",
       "      <td>Sun</td>\n",
       "      <td>Away</td>\n",
       "      <td>W</td>\n",
       "      <td>4.0</td>\n",
       "      <td>1.0</td>\n",
       "      <td>...</td>\n",
       "      <td>Match Report</td>\n",
       "      <td>NaN</td>\n",
       "      <td>15.0</td>\n",
       "      <td>7.0</td>\n",
       "      <td>14.6</td>\n",
       "      <td>0.0</td>\n",
       "      <td>0.0</td>\n",
       "      <td>0.0</td>\n",
       "      <td>2023</td>\n",
       "      <td>Barcelona</td>\n",
       "    </tr>\n",
       "    <tr>\n",
       "      <th>2</th>\n",
       "      <td>2</td>\n",
       "      <td>2022-08-28</td>\n",
       "      <td>19:30</td>\n",
       "      <td>La Liga</td>\n",
       "      <td>Matchweek 3</td>\n",
       "      <td>Sun</td>\n",
       "      <td>Home</td>\n",
       "      <td>W</td>\n",
       "      <td>4.0</td>\n",
       "      <td>0.0</td>\n",
       "      <td>...</td>\n",
       "      <td>Match Report</td>\n",
       "      <td>NaN</td>\n",
       "      <td>24.0</td>\n",
       "      <td>9.0</td>\n",
       "      <td>14.4</td>\n",
       "      <td>1.0</td>\n",
       "      <td>0.0</td>\n",
       "      <td>0.0</td>\n",
       "      <td>2023</td>\n",
       "      <td>Barcelona</td>\n",
       "    </tr>\n",
       "    <tr>\n",
       "      <th>3</th>\n",
       "      <td>3</td>\n",
       "      <td>2022-09-03</td>\n",
       "      <td>21:00</td>\n",
       "      <td>La Liga</td>\n",
       "      <td>Matchweek 4</td>\n",
       "      <td>Sat</td>\n",
       "      <td>Away</td>\n",
       "      <td>W</td>\n",
       "      <td>3.0</td>\n",
       "      <td>0.0</td>\n",
       "      <td>...</td>\n",
       "      <td>Match Report</td>\n",
       "      <td>NaN</td>\n",
       "      <td>18.0</td>\n",
       "      <td>5.0</td>\n",
       "      <td>16.0</td>\n",
       "      <td>2.0</td>\n",
       "      <td>0.0</td>\n",
       "      <td>0.0</td>\n",
       "      <td>2023</td>\n",
       "      <td>Barcelona</td>\n",
       "    </tr>\n",
       "    <tr>\n",
       "      <th>4</th>\n",
       "      <td>5</td>\n",
       "      <td>2022-09-10</td>\n",
       "      <td>18:30</td>\n",
       "      <td>La Liga</td>\n",
       "      <td>Matchweek 5</td>\n",
       "      <td>Sat</td>\n",
       "      <td>Away</td>\n",
       "      <td>W</td>\n",
       "      <td>4.0</td>\n",
       "      <td>0.0</td>\n",
       "      <td>...</td>\n",
       "      <td>Match Report</td>\n",
       "      <td>NaN</td>\n",
       "      <td>16.0</td>\n",
       "      <td>8.0</td>\n",
       "      <td>14.9</td>\n",
       "      <td>0.0</td>\n",
       "      <td>0.0</td>\n",
       "      <td>0.0</td>\n",
       "      <td>2023</td>\n",
       "      <td>Barcelona</td>\n",
       "    </tr>\n",
       "  </tbody>\n",
       "</table>\n",
       "<p>5 rows × 28 columns</p>\n",
       "</div>"
      ],
      "text/plain": [
       "   Unnamed: 0        date   time     comp        round  day venue result   gf  \\\n",
       "0           0  2022-08-13  21:00  La Liga  Matchweek 1  Sat  Home      D  0.0   \n",
       "1           1  2022-08-21  22:00  La Liga  Matchweek 2  Sun  Away      W  4.0   \n",
       "2           2  2022-08-28  19:30  La Liga  Matchweek 3  Sun  Home      W  4.0   \n",
       "3           3  2022-09-03  21:00  La Liga  Matchweek 4  Sat  Away      W  3.0   \n",
       "4           5  2022-09-10  18:30  La Liga  Matchweek 5  Sat  Away      W  4.0   \n",
       "\n",
       "    ga  ...  match report  notes    sh  sot  dist   fk   pk pkatt season  \\\n",
       "0  0.0  ...  Match Report    NaN  21.0  5.0  17.0  1.0  0.0   0.0   2023   \n",
       "1  1.0  ...  Match Report    NaN  15.0  7.0  14.6  0.0  0.0   0.0   2023   \n",
       "2  0.0  ...  Match Report    NaN  24.0  9.0  14.4  1.0  0.0   0.0   2023   \n",
       "3  0.0  ...  Match Report    NaN  18.0  5.0  16.0  2.0  0.0   0.0   2023   \n",
       "4  0.0  ...  Match Report    NaN  16.0  8.0  14.9  0.0  0.0   0.0   2023   \n",
       "\n",
       "        team  \n",
       "0  Barcelona  \n",
       "1  Barcelona  \n",
       "2  Barcelona  \n",
       "3  Barcelona  \n",
       "4  Barcelona  \n",
       "\n",
       "[5 rows x 28 columns]"
      ]
     },
     "execution_count": 111,
     "metadata": {},
     "output_type": "execute_result"
    }
   ],
   "source": [
    "matches.head()"
   ]
  },
  {
   "cell_type": "code",
   "execution_count": 112,
   "metadata": {},
   "outputs": [],
   "source": [
    "#We don't need the 'unamed:0' column so we'll drop it\n",
    "matches.drop('Unnamed: 0', axis=1, inplace=True)"
   ]
  },
  {
   "cell_type": "code",
   "execution_count": 113,
   "metadata": {},
   "outputs": [
    {
     "data": {
      "text/plain": [
       "(4322, 27)"
      ]
     },
     "execution_count": 113,
     "metadata": {},
     "output_type": "execute_result"
    }
   ],
   "source": [
    "matches.shape"
   ]
  },
  {
   "cell_type": "code",
   "execution_count": 114,
   "metadata": {},
   "outputs": [
    {
     "name": "stdout",
     "output_type": "stream",
     "text": [
      "Index(['date', 'time', 'comp', 'round', 'day', 'venue', 'result', 'gf', 'ga',\n",
      "       'opponent', 'xg', 'xga', 'poss', 'attendance', 'captain', 'formation',\n",
      "       'referee', 'match report', 'notes', 'sh', 'sot', 'dist', 'fk', 'pk',\n",
      "       'pkatt', 'season', 'team'],\n",
      "      dtype='object')\n",
      "RangeIndex(start=0, stop=4322, step=1)\n"
     ]
    }
   ],
   "source": [
    "print(matches.columns)\n",
    "print(matches.index)"
   ]
  },
  {
   "cell_type": "code",
   "execution_count": 115,
   "metadata": {},
   "outputs": [
    {
     "data": {
      "text/html": [
       "<div>\n",
       "<style scoped>\n",
       "    .dataframe tbody tr th:only-of-type {\n",
       "        vertical-align: middle;\n",
       "    }\n",
       "\n",
       "    .dataframe tbody tr th {\n",
       "        vertical-align: top;\n",
       "    }\n",
       "\n",
       "    .dataframe thead th {\n",
       "        text-align: right;\n",
       "    }\n",
       "</style>\n",
       "<table border=\"1\" class=\"dataframe\">\n",
       "  <thead>\n",
       "    <tr style=\"text-align: right;\">\n",
       "      <th></th>\n",
       "      <th>count</th>\n",
       "      <th>mean</th>\n",
       "      <th>std</th>\n",
       "      <th>min</th>\n",
       "      <th>25%</th>\n",
       "      <th>50%</th>\n",
       "      <th>75%</th>\n",
       "      <th>max</th>\n",
       "    </tr>\n",
       "  </thead>\n",
       "  <tbody>\n",
       "    <tr>\n",
       "      <th>gf</th>\n",
       "      <td>4322.0</td>\n",
       "      <td>1.269088</td>\n",
       "      <td>1.177594</td>\n",
       "      <td>0.0</td>\n",
       "      <td>0.0</td>\n",
       "      <td>1.0</td>\n",
       "      <td>2.0</td>\n",
       "      <td>8.0</td>\n",
       "    </tr>\n",
       "    <tr>\n",
       "      <th>ga</th>\n",
       "      <td>4322.0</td>\n",
       "      <td>1.269088</td>\n",
       "      <td>1.177594</td>\n",
       "      <td>0.0</td>\n",
       "      <td>0.0</td>\n",
       "      <td>1.0</td>\n",
       "      <td>2.0</td>\n",
       "      <td>8.0</td>\n",
       "    </tr>\n",
       "    <tr>\n",
       "      <th>xg</th>\n",
       "      <td>4322.0</td>\n",
       "      <td>1.276377</td>\n",
       "      <td>0.770913</td>\n",
       "      <td>0.0</td>\n",
       "      <td>0.7</td>\n",
       "      <td>1.1</td>\n",
       "      <td>1.7</td>\n",
       "      <td>5.6</td>\n",
       "    </tr>\n",
       "    <tr>\n",
       "      <th>xga</th>\n",
       "      <td>4322.0</td>\n",
       "      <td>1.276377</td>\n",
       "      <td>0.770913</td>\n",
       "      <td>0.0</td>\n",
       "      <td>0.7</td>\n",
       "      <td>1.1</td>\n",
       "      <td>1.7</td>\n",
       "      <td>5.6</td>\n",
       "    </tr>\n",
       "    <tr>\n",
       "      <th>poss</th>\n",
       "      <td>4322.0</td>\n",
       "      <td>50.000925</td>\n",
       "      <td>11.197786</td>\n",
       "      <td>18.0</td>\n",
       "      <td>42.0</td>\n",
       "      <td>50.0</td>\n",
       "      <td>58.0</td>\n",
       "      <td>82.0</td>\n",
       "    </tr>\n",
       "    <tr>\n",
       "      <th>attendance</th>\n",
       "      <td>3346.0</td>\n",
       "      <td>26815.921100</td>\n",
       "      <td>18924.324548</td>\n",
       "      <td>13.0</td>\n",
       "      <td>13247.0</td>\n",
       "      <td>19161.0</td>\n",
       "      <td>37972.0</td>\n",
       "      <td>97939.0</td>\n",
       "    </tr>\n",
       "    <tr>\n",
       "      <th>notes</th>\n",
       "      <td>0.0</td>\n",
       "      <td>NaN</td>\n",
       "      <td>NaN</td>\n",
       "      <td>NaN</td>\n",
       "      <td>NaN</td>\n",
       "      <td>NaN</td>\n",
       "      <td>NaN</td>\n",
       "      <td>NaN</td>\n",
       "    </tr>\n",
       "    <tr>\n",
       "      <th>sh</th>\n",
       "      <td>4322.0</td>\n",
       "      <td>11.491439</td>\n",
       "      <td>4.677475</td>\n",
       "      <td>0.0</td>\n",
       "      <td>8.0</td>\n",
       "      <td>11.0</td>\n",
       "      <td>14.0</td>\n",
       "      <td>36.0</td>\n",
       "    </tr>\n",
       "    <tr>\n",
       "      <th>sot</th>\n",
       "      <td>4322.0</td>\n",
       "      <td>3.798473</td>\n",
       "      <td>2.261921</td>\n",
       "      <td>0.0</td>\n",
       "      <td>2.0</td>\n",
       "      <td>3.0</td>\n",
       "      <td>5.0</td>\n",
       "      <td>17.0</td>\n",
       "    </tr>\n",
       "    <tr>\n",
       "      <th>dist</th>\n",
       "      <td>4320.0</td>\n",
       "      <td>18.362986</td>\n",
       "      <td>3.376990</td>\n",
       "      <td>4.8</td>\n",
       "      <td>16.1</td>\n",
       "      <td>18.2</td>\n",
       "      <td>20.2</td>\n",
       "      <td>46.2</td>\n",
       "    </tr>\n",
       "    <tr>\n",
       "      <th>fk</th>\n",
       "      <td>4322.0</td>\n",
       "      <td>0.507635</td>\n",
       "      <td>0.731518</td>\n",
       "      <td>0.0</td>\n",
       "      <td>0.0</td>\n",
       "      <td>0.0</td>\n",
       "      <td>1.0</td>\n",
       "      <td>5.0</td>\n",
       "    </tr>\n",
       "    <tr>\n",
       "      <th>pk</th>\n",
       "      <td>4322.0</td>\n",
       "      <td>0.133040</td>\n",
       "      <td>0.363996</td>\n",
       "      <td>0.0</td>\n",
       "      <td>0.0</td>\n",
       "      <td>0.0</td>\n",
       "      <td>0.0</td>\n",
       "      <td>3.0</td>\n",
       "    </tr>\n",
       "    <tr>\n",
       "      <th>pkatt</th>\n",
       "      <td>4322.0</td>\n",
       "      <td>0.173994</td>\n",
       "      <td>0.421357</td>\n",
       "      <td>0.0</td>\n",
       "      <td>0.0</td>\n",
       "      <td>0.0</td>\n",
       "      <td>0.0</td>\n",
       "      <td>3.0</td>\n",
       "    </tr>\n",
       "    <tr>\n",
       "      <th>season</th>\n",
       "      <td>4322.0</td>\n",
       "      <td>2020.362332</td>\n",
       "      <td>1.647661</td>\n",
       "      <td>2018.0</td>\n",
       "      <td>2019.0</td>\n",
       "      <td>2020.0</td>\n",
       "      <td>2022.0</td>\n",
       "      <td>2023.0</td>\n",
       "    </tr>\n",
       "  </tbody>\n",
       "</table>\n",
       "</div>"
      ],
      "text/plain": [
       "             count          mean           std     min      25%      50%  \\\n",
       "gf          4322.0      1.269088      1.177594     0.0      0.0      1.0   \n",
       "ga          4322.0      1.269088      1.177594     0.0      0.0      1.0   \n",
       "xg          4322.0      1.276377      0.770913     0.0      0.7      1.1   \n",
       "xga         4322.0      1.276377      0.770913     0.0      0.7      1.1   \n",
       "poss        4322.0     50.000925     11.197786    18.0     42.0     50.0   \n",
       "attendance  3346.0  26815.921100  18924.324548    13.0  13247.0  19161.0   \n",
       "notes          0.0           NaN           NaN     NaN      NaN      NaN   \n",
       "sh          4322.0     11.491439      4.677475     0.0      8.0     11.0   \n",
       "sot         4322.0      3.798473      2.261921     0.0      2.0      3.0   \n",
       "dist        4320.0     18.362986      3.376990     4.8     16.1     18.2   \n",
       "fk          4322.0      0.507635      0.731518     0.0      0.0      0.0   \n",
       "pk          4322.0      0.133040      0.363996     0.0      0.0      0.0   \n",
       "pkatt       4322.0      0.173994      0.421357     0.0      0.0      0.0   \n",
       "season      4322.0   2020.362332      1.647661  2018.0   2019.0   2020.0   \n",
       "\n",
       "                75%      max  \n",
       "gf              2.0      8.0  \n",
       "ga              2.0      8.0  \n",
       "xg              1.7      5.6  \n",
       "xga             1.7      5.6  \n",
       "poss           58.0     82.0  \n",
       "attendance  37972.0  97939.0  \n",
       "notes           NaN      NaN  \n",
       "sh             14.0     36.0  \n",
       "sot             5.0     17.0  \n",
       "dist           20.2     46.2  \n",
       "fk              1.0      5.0  \n",
       "pk              0.0      3.0  \n",
       "pkatt           0.0      3.0  \n",
       "season       2022.0   2023.0  "
      ]
     },
     "execution_count": 115,
     "metadata": {},
     "output_type": "execute_result"
    }
   ],
   "source": [
    "matches.describe().T"
   ]
  },
  {
   "cell_type": "markdown",
   "metadata": {},
   "source": [
    "`Observations`\n",
    "We can tell the average goals per game is 1 which indicates not many goals are scored in the matches. The goals scored ranges from 0 to 8. Average shots attempted per game is about 11 but average shots on target is about 4 which indicates that in this League, many shots doesn't get converted into goals. Minimum attendance at a game was 13 which is way below the standard capacity of a stadium. I'm pretty sure this will be coming from the 2019/2020 during the Covid-19 pandemic when spectators were banned from attending matches at some point so that makes sense. We can also see a lot of shots are being taken 18 yards away which is expected. The 18 yard box is usually heavily guarded by defenders of the opposition which makes it difficult to penetrate so most players who want to score will attempt to shoot from 18 years way which explains why the average distance is 18 yards. On rare occassions do players have the priviledge to shoot from less than 18 yards like you can see min distance is 4.8 yards and we can see some ambitious attempts at goal from 46 yards away."
   ]
  },
  {
   "cell_type": "code",
   "execution_count": 116,
   "metadata": {},
   "outputs": [
    {
     "data": {
      "text/plain": [
       "Barcelona              216\n",
       "Getafe                 216\n",
       "Atletico Madrid        216\n",
       "Real Sociedad          216\n",
       "Real Betis             216\n",
       "Villarreal             216\n",
       "Athletic Club          216\n",
       "Valencia               216\n",
       "Celta Vigo             216\n",
       "Real Madrid            216\n",
       "Sevilla                216\n",
       "Alaves                 190\n",
       "Levante                190\n",
       "Espanyol               178\n",
       "Eibar                  152\n",
       "Osasuna                141\n",
       "Valladolid             140\n",
       "Granada                114\n",
       "Leganes                114\n",
       "Mallorca               103\n",
       "Cadiz                  102\n",
       "Elche                  102\n",
       "Girona                 102\n",
       "Rayo Vallecano         102\n",
       "Huesca                  76\n",
       "Deportivo La Coruna     38\n",
       "Las Palmas              38\n",
       "Malaga                  38\n",
       "Almeria                 26\n",
       "Name: team, dtype: int64"
      ]
     },
     "execution_count": 116,
     "metadata": {},
     "output_type": "execute_result"
    }
   ],
   "source": [
    "matches['team'].value_counts()"
   ]
  },
  {
   "cell_type": "markdown",
   "metadata": {},
   "source": [
    "`NOTE`\n",
    "\n",
    "There are 20 teams participating in the League per season/year. It's round robin and each team gets to host their opponent so teams play each other twice. This means each team has 19*2 ie 38 games per season. We have 6 seasons of data so ideally each club should have 226 (38 * 6) games in our sampled data set. The current 2023 season is still ongoing. As at the time of this analysis, 26 matches have been played per team so far which explains why we're seeing 216 instead of 226. we can see, 11 teams have 216 games over the 6 seasons which means they have played the maximum number of matches over the 6 seasons. <br>\n",
    "\n",
    "In the La Liga, at the end of every season, 4 teams at the bottom of the league gets relegated to a lower division meaning they won't be participating in the next season's competition. These 4 teams get replaced with another set of 4 teams who have been promoted from the lower division. This is why our list of teams above is 29 instead of 20. Only if they perform well in the lower division do they get to be promoted to to participate in the next season of the competition. This explains why some teams have lower than 216 matches over the 6 seasons we have sampled. For instance, Almeria has 26 matches only meaning they haven't participated in the last 5 seasons of the La Liga. Deportivo La Coruna, Las Palmas, Malaga has 38 matches meaning they have participated in a previous season and but not the current one. Huesca has 76 matches meaning they have participated in two of the last 6 seasons. Cadiz, Elche, Girona has 102 matches because they are currently in the ongoing season with 26 matches and participated in 2 of the previous 5 seasons as well - ((38 * 2) + 26 ). <br>\n",
    "\n",
    "Now we know why we have more than than 20 unique teams in our sample and why we're missing match data for some of the teams.\n",
    "\n",
    "\n",
    "\n"
   ]
  },
  {
   "cell_type": "code",
   "execution_count": 117,
   "metadata": {},
   "outputs": [
    {
     "data": {
      "text/plain": [
       "array([2023, 2022, 2021, 2020, 2019, 2018], dtype=int64)"
      ]
     },
     "execution_count": 117,
     "metadata": {},
     "output_type": "execute_result"
    }
   ],
   "source": [
    "matches['season'].unique()"
   ]
  },
  {
   "cell_type": "code",
   "execution_count": 118,
   "metadata": {},
   "outputs": [
    {
     "name": "stdout",
     "output_type": "stream",
     "text": [
      "<class 'pandas.core.frame.DataFrame'>\n",
      "RangeIndex: 4322 entries, 0 to 4321\n",
      "Data columns (total 27 columns):\n",
      " #   Column        Non-Null Count  Dtype  \n",
      "---  ------        --------------  -----  \n",
      " 0   date          4322 non-null   object \n",
      " 1   time          4322 non-null   object \n",
      " 2   comp          4322 non-null   object \n",
      " 3   round         4322 non-null   object \n",
      " 4   day           4322 non-null   object \n",
      " 5   venue         4322 non-null   object \n",
      " 6   result        4322 non-null   object \n",
      " 7   gf            4322 non-null   float64\n",
      " 8   ga            4322 non-null   float64\n",
      " 9   opponent      4322 non-null   object \n",
      " 10  xg            4322 non-null   float64\n",
      " 11  xga           4322 non-null   float64\n",
      " 12  poss          4322 non-null   float64\n",
      " 13  attendance    3346 non-null   float64\n",
      " 14  captain       4322 non-null   object \n",
      " 15  formation     4322 non-null   object \n",
      " 16  referee       4322 non-null   object \n",
      " 17  match report  4322 non-null   object \n",
      " 18  notes         0 non-null      float64\n",
      " 19  sh            4322 non-null   float64\n",
      " 20  sot           4322 non-null   float64\n",
      " 21  dist          4320 non-null   float64\n",
      " 22  fk            4322 non-null   float64\n",
      " 23  pk            4322 non-null   float64\n",
      " 24  pkatt         4322 non-null   float64\n",
      " 25  season        4322 non-null   int64  \n",
      " 26  team          4322 non-null   object \n",
      "dtypes: float64(13), int64(1), object(13)\n",
      "memory usage: 911.8+ KB\n"
     ]
    }
   ],
   "source": [
    "matches.info()"
   ]
  },
  {
   "cell_type": "markdown",
   "metadata": {},
   "source": [
    "Most of the columns are not in the correct datatype so we'll convert them. Also, we're create new columns. <br>\n",
    "1. venue_code -> 1 for home and 0 for away. match outcomes can be influenced by whether you're a visitor or host. <br>\n",
    "2. opp_code -> each opponent will have a unique number. <br>\n",
    "3. hour -> we'll extract the hour from time. maybe some teams play better at some times. <br>\n",
    "3. day_code -> creates categorical values for days of the week. Monday=0, Sunday=6 <br>\n",
    "4. target -> this is what we want to predict. <br>\n"
   ]
  },
  {
   "cell_type": "code",
   "execution_count": 119,
   "metadata": {},
   "outputs": [],
   "source": [
    "matches[\"date\"] = pd.to_datetime(matches[\"date\"])\n",
    "matches['venue_code'] = matches['venue'].astype(\"category\").cat.codes\n",
    "matches[\"opp_code\"] = matches[\"opponent\"].astype(\"category\").cat.codes\n",
    "matches[\"hour\"] = matches[\"time\"].str.replace(\":.+\", \"\", regex=True).astype(\"int\")\n",
    "matches['day_code'] = matches[\"date\"].dt.dayofweek\n",
    "#matches[\"result\"].unique()\n",
    "matches['target'] = matches[\"result\"].astype(\"category\").cat.codes \n"
   ]
  },
  {
   "cell_type": "code",
   "execution_count": 120,
   "metadata": {},
   "outputs": [
    {
     "data": {
      "text/plain": [
       "array([0, 2, 1], dtype=int8)"
      ]
     },
     "execution_count": 120,
     "metadata": {},
     "output_type": "execute_result"
    }
   ],
   "source": [
    "matches['target'].unique()"
   ]
  },
  {
   "cell_type": "code",
   "execution_count": 121,
   "metadata": {},
   "outputs": [
    {
     "data": {
      "text/plain": [
       "array([5, 6, 3, 1, 2, 0, 4], dtype=int64)"
      ]
     },
     "execution_count": 121,
     "metadata": {},
     "output_type": "execute_result"
    }
   ],
   "source": [
    "matches['day_code'].unique()"
   ]
  },
  {
   "cell_type": "code",
   "execution_count": 16,
   "metadata": {},
   "outputs": [
    {
     "data": {
      "text/plain": [
       "array([22, 24, 27, 25,  7,  9, 19,  6, 23, 28,  2, 26,  1, 21, 10,  3, 11,\n",
       "       12,  5,  4,  0, 18, 13, 14,  8, 17, 16, 20, 15], dtype=int8)"
      ]
     },
     "execution_count": 16,
     "metadata": {},
     "output_type": "execute_result"
    }
   ],
   "source": [
    "matches.opp_code.unique()"
   ]
  },
  {
   "cell_type": "code",
   "execution_count": 122,
   "metadata": {},
   "outputs": [
    {
     "data": {
      "text/html": [
       "<div>\n",
       "<style scoped>\n",
       "    .dataframe tbody tr th:only-of-type {\n",
       "        vertical-align: middle;\n",
       "    }\n",
       "\n",
       "    .dataframe tbody tr th {\n",
       "        vertical-align: top;\n",
       "    }\n",
       "\n",
       "    .dataframe thead th {\n",
       "        text-align: right;\n",
       "    }\n",
       "</style>\n",
       "<table border=\"1\" class=\"dataframe\">\n",
       "  <thead>\n",
       "    <tr style=\"text-align: right;\">\n",
       "      <th></th>\n",
       "      <th>date</th>\n",
       "      <th>time</th>\n",
       "      <th>comp</th>\n",
       "      <th>round</th>\n",
       "      <th>day</th>\n",
       "      <th>venue</th>\n",
       "      <th>result</th>\n",
       "      <th>gf</th>\n",
       "      <th>ga</th>\n",
       "      <th>opponent</th>\n",
       "      <th>...</th>\n",
       "      <th>fk</th>\n",
       "      <th>pk</th>\n",
       "      <th>pkatt</th>\n",
       "      <th>season</th>\n",
       "      <th>team</th>\n",
       "      <th>venue_code</th>\n",
       "      <th>opp_code</th>\n",
       "      <th>hour</th>\n",
       "      <th>day_code</th>\n",
       "      <th>target</th>\n",
       "    </tr>\n",
       "  </thead>\n",
       "  <tbody>\n",
       "    <tr>\n",
       "      <th>0</th>\n",
       "      <td>2022-08-13</td>\n",
       "      <td>21:00</td>\n",
       "      <td>La Liga</td>\n",
       "      <td>Matchweek 1</td>\n",
       "      <td>Sat</td>\n",
       "      <td>Home</td>\n",
       "      <td>D</td>\n",
       "      <td>0.0</td>\n",
       "      <td>0.0</td>\n",
       "      <td>Rayo Vallecano</td>\n",
       "      <td>...</td>\n",
       "      <td>1.0</td>\n",
       "      <td>0.0</td>\n",
       "      <td>0.0</td>\n",
       "      <td>2023</td>\n",
       "      <td>Barcelona</td>\n",
       "      <td>1</td>\n",
       "      <td>22</td>\n",
       "      <td>21</td>\n",
       "      <td>5</td>\n",
       "      <td>0</td>\n",
       "    </tr>\n",
       "    <tr>\n",
       "      <th>1</th>\n",
       "      <td>2022-08-21</td>\n",
       "      <td>22:00</td>\n",
       "      <td>La Liga</td>\n",
       "      <td>Matchweek 2</td>\n",
       "      <td>Sun</td>\n",
       "      <td>Away</td>\n",
       "      <td>W</td>\n",
       "      <td>4.0</td>\n",
       "      <td>1.0</td>\n",
       "      <td>Real Sociedad</td>\n",
       "      <td>...</td>\n",
       "      <td>0.0</td>\n",
       "      <td>0.0</td>\n",
       "      <td>0.0</td>\n",
       "      <td>2023</td>\n",
       "      <td>Barcelona</td>\n",
       "      <td>0</td>\n",
       "      <td>24</td>\n",
       "      <td>22</td>\n",
       "      <td>6</td>\n",
       "      <td>2</td>\n",
       "    </tr>\n",
       "    <tr>\n",
       "      <th>2</th>\n",
       "      <td>2022-08-28</td>\n",
       "      <td>19:30</td>\n",
       "      <td>La Liga</td>\n",
       "      <td>Matchweek 3</td>\n",
       "      <td>Sun</td>\n",
       "      <td>Home</td>\n",
       "      <td>W</td>\n",
       "      <td>4.0</td>\n",
       "      <td>0.0</td>\n",
       "      <td>Valladolid</td>\n",
       "      <td>...</td>\n",
       "      <td>1.0</td>\n",
       "      <td>0.0</td>\n",
       "      <td>0.0</td>\n",
       "      <td>2023</td>\n",
       "      <td>Barcelona</td>\n",
       "      <td>1</td>\n",
       "      <td>27</td>\n",
       "      <td>19</td>\n",
       "      <td>6</td>\n",
       "      <td>2</td>\n",
       "    </tr>\n",
       "    <tr>\n",
       "      <th>3</th>\n",
       "      <td>2022-09-03</td>\n",
       "      <td>21:00</td>\n",
       "      <td>La Liga</td>\n",
       "      <td>Matchweek 4</td>\n",
       "      <td>Sat</td>\n",
       "      <td>Away</td>\n",
       "      <td>W</td>\n",
       "      <td>3.0</td>\n",
       "      <td>0.0</td>\n",
       "      <td>Sevilla</td>\n",
       "      <td>...</td>\n",
       "      <td>2.0</td>\n",
       "      <td>0.0</td>\n",
       "      <td>0.0</td>\n",
       "      <td>2023</td>\n",
       "      <td>Barcelona</td>\n",
       "      <td>0</td>\n",
       "      <td>25</td>\n",
       "      <td>21</td>\n",
       "      <td>5</td>\n",
       "      <td>2</td>\n",
       "    </tr>\n",
       "    <tr>\n",
       "      <th>4</th>\n",
       "      <td>2022-09-10</td>\n",
       "      <td>18:30</td>\n",
       "      <td>La Liga</td>\n",
       "      <td>Matchweek 5</td>\n",
       "      <td>Sat</td>\n",
       "      <td>Away</td>\n",
       "      <td>W</td>\n",
       "      <td>4.0</td>\n",
       "      <td>0.0</td>\n",
       "      <td>Cádiz</td>\n",
       "      <td>...</td>\n",
       "      <td>0.0</td>\n",
       "      <td>0.0</td>\n",
       "      <td>0.0</td>\n",
       "      <td>2023</td>\n",
       "      <td>Barcelona</td>\n",
       "      <td>0</td>\n",
       "      <td>7</td>\n",
       "      <td>18</td>\n",
       "      <td>5</td>\n",
       "      <td>2</td>\n",
       "    </tr>\n",
       "  </tbody>\n",
       "</table>\n",
       "<p>5 rows × 32 columns</p>\n",
       "</div>"
      ],
      "text/plain": [
       "        date   time     comp        round  day venue result   gf   ga  \\\n",
       "0 2022-08-13  21:00  La Liga  Matchweek 1  Sat  Home      D  0.0  0.0   \n",
       "1 2022-08-21  22:00  La Liga  Matchweek 2  Sun  Away      W  4.0  1.0   \n",
       "2 2022-08-28  19:30  La Liga  Matchweek 3  Sun  Home      W  4.0  0.0   \n",
       "3 2022-09-03  21:00  La Liga  Matchweek 4  Sat  Away      W  3.0  0.0   \n",
       "4 2022-09-10  18:30  La Liga  Matchweek 5  Sat  Away      W  4.0  0.0   \n",
       "\n",
       "         opponent  ...   fk   pk  pkatt  season       team venue_code  \\\n",
       "0  Rayo Vallecano  ...  1.0  0.0    0.0    2023  Barcelona          1   \n",
       "1   Real Sociedad  ...  0.0  0.0    0.0    2023  Barcelona          0   \n",
       "2      Valladolid  ...  1.0  0.0    0.0    2023  Barcelona          1   \n",
       "3         Sevilla  ...  2.0  0.0    0.0    2023  Barcelona          0   \n",
       "4           Cádiz  ...  0.0  0.0    0.0    2023  Barcelona          0   \n",
       "\n",
       "  opp_code hour  day_code  target  \n",
       "0       22   21         5       0  \n",
       "1       24   22         6       2  \n",
       "2       27   19         6       2  \n",
       "3       25   21         5       2  \n",
       "4        7   18         5       2  \n",
       "\n",
       "[5 rows x 32 columns]"
      ]
     },
     "execution_count": 122,
     "metadata": {},
     "output_type": "execute_result"
    }
   ],
   "source": [
    "matches.head()"
   ]
  },
  {
   "cell_type": "markdown",
   "metadata": {},
   "source": [
    "target has draw=0, Lose=1, Win=2"
   ]
  },
  {
   "cell_type": "code",
   "execution_count": 29,
   "metadata": {},
   "outputs": [
    {
     "data": {
      "text/plain": [
       "date               0\n",
       "time               0\n",
       "comp               0\n",
       "round              0\n",
       "day                0\n",
       "venue              0\n",
       "result             0\n",
       "gf                 0\n",
       "ga                 0\n",
       "opponent           0\n",
       "xg                 0\n",
       "xga                0\n",
       "poss               0\n",
       "attendance       976\n",
       "captain            0\n",
       "formation          0\n",
       "referee            0\n",
       "match report       0\n",
       "notes           4322\n",
       "sh                 0\n",
       "sot                0\n",
       "dist               2\n",
       "fk                 0\n",
       "pk                 0\n",
       "pkatt              0\n",
       "season             0\n",
       "team               0\n",
       "venue_code         0\n",
       "opp_code           0\n",
       "hour               0\n",
       "day_code           0\n",
       "target             0\n",
       "dtype: int64"
      ]
     },
     "execution_count": 29,
     "metadata": {},
     "output_type": "execute_result"
    }
   ],
   "source": [
    "matches.isna().sum()"
   ]
  },
  {
   "cell_type": "code",
   "execution_count": 125,
   "metadata": {},
   "outputs": [
    {
     "data": {
      "text/plain": [
       "array([2021, 2020, 2018], dtype=int64)"
      ]
     },
     "execution_count": 125,
     "metadata": {},
     "output_type": "execute_result"
    }
   ],
   "source": [
    "matches[matches['attendance'].isnull()]['season'].unique()"
   ]
  },
  {
   "cell_type": "markdown",
   "metadata": {},
   "source": [
    "Missing data for attendance is coming from the 2020 and 2021 season. This was as a result of restrictions during the Covid-19 pandemic. Spectators were banned from attending games at some point in time."
   ]
  },
  {
   "cell_type": "code",
   "execution_count": 126,
   "metadata": {},
   "outputs": [],
   "source": [
    "matches['dist'].fillna(matches['dist'].mean(), inplace=True)"
   ]
  },
  {
   "cell_type": "code",
   "execution_count": 127,
   "metadata": {},
   "outputs": [
    {
     "data": {
      "text/plain": [
       "date               0\n",
       "time               0\n",
       "comp               0\n",
       "round              0\n",
       "day                0\n",
       "venue              0\n",
       "result             0\n",
       "gf                 0\n",
       "ga                 0\n",
       "opponent           0\n",
       "xg                 0\n",
       "xga                0\n",
       "poss               0\n",
       "attendance       976\n",
       "captain            0\n",
       "formation          0\n",
       "referee            0\n",
       "match report       0\n",
       "notes           4322\n",
       "sh                 0\n",
       "sot                0\n",
       "dist               0\n",
       "fk                 0\n",
       "pk                 0\n",
       "pkatt              0\n",
       "season             0\n",
       "team               0\n",
       "venue_code         0\n",
       "opp_code           0\n",
       "hour               0\n",
       "day_code           0\n",
       "target             0\n",
       "dtype: int64"
      ]
     },
     "execution_count": 127,
     "metadata": {},
     "output_type": "execute_result"
    }
   ],
   "source": [
    "matches.isna().sum()"
   ]
  },
  {
   "cell_type": "code",
   "execution_count": 92,
   "metadata": {},
   "outputs": [],
   "source": [
    "#matches[matches['attendance'] == np.nan]"
   ]
  },
  {
   "cell_type": "code",
   "execution_count": 129,
   "metadata": {},
   "outputs": [],
   "source": [
    "matches['attendance'].fillna(0, inplace=True)"
   ]
  },
  {
   "cell_type": "code",
   "execution_count": 131,
   "metadata": {},
   "outputs": [
    {
     "data": {
      "text/plain": [
       "Text(0.5, 1.0, 'Match Outcomes Overview')"
      ]
     },
     "execution_count": 131,
     "metadata": {},
     "output_type": "execute_result"
    },
    {
     "data": {
      "image/png": "[encoded data removed]",
      "text/plain": [
       "<Figure size 640x480 with 1 Axes>"
      ]
     },
     "metadata": {},
     "output_type": "display_data"
    }
   ],
   "source": [
    "sns.countplot(x=matches['result'])\n",
    "plt.xlabel('Match outcome')\n",
    "plt.title(\"Match Outcomes Overview\")"
   ]
  },
  {
   "cell_type": "markdown",
   "metadata": {},
   "source": [
    "it appears there are as many wins as loses in the dataset about 480 each whiles Draw outcomes was about 350. "
   ]
  },
  {
   "cell_type": "code",
   "execution_count": 132,
   "metadata": {},
   "outputs": [
    {
     "data": {
      "text/plain": [
       "Text(0.5, 1.0, 'Match Frequencies based on days of the week')"
      ]
     },
     "execution_count": 132,
     "metadata": {},
     "output_type": "execute_result"
    },
    {
     "data": {
      "image/png": "[encoded data removed]",
      "text/plain": [
       "<Figure size 900x600 with 1 Axes>"
      ]
     },
     "metadata": {},
     "output_type": "display_data"
    }
   ],
   "source": [
    "plt.figure(figsize=(9,6))\n",
    "sns.countplot(matches, x='day_code', order=matches[\"day_code\"].value_counts().index)\n",
    "#plt.xticks(np.arange(7), ['Monday', \"Tuesday\", \"Wednesday\", \"Thursday\", \"Friday\", \"Saturday\", \"Sunday\"])\n",
    "plt.xlabel(\"Days of the Week\")\n",
    "plt.title(\"Match Frequencies based on days of the week\")"
   ]
  },
  {
   "cell_type": "markdown",
   "metadata": {},
   "source": [
    "It appears most matches are scheduled on Saturdays and Sundays. <br> let's see the distribution of goals over the two seasons using the the displot"
   ]
  },
  {
   "cell_type": "code",
   "execution_count": 133,
   "metadata": {},
   "outputs": [
    {
     "data": {
      "text/plain": [
       "Text(0.5, 1.0, 'Distribution of goals')"
      ]
     },
     "execution_count": 133,
     "metadata": {},
     "output_type": "execute_result"
    },
    {
     "data": {
      "image/png": "[encoded data removed]",
      "text/plain": [
       "<Figure size 500x500 with 1 Axes>"
      ]
     },
     "metadata": {},
     "output_type": "display_data"
    }
   ],
   "source": [
    "sns.displot(x='gf', data=matches)\n",
    "plt.xlabel('number of goals')\n",
    "plt.title('Distribution of goals')"
   ]
  },
  {
   "cell_type": "markdown",
   "metadata": {},
   "source": [
    "It looks like most matches ends up with single goals or goaless. Rarely does 6 or more goals occur in a match. <br> \n",
    "it appears this league doesn't produce a lot of goals."
   ]
  },
  {
   "cell_type": "markdown",
   "metadata": {},
   "source": [
    "## The Models"
   ]
  },
  {
   "cell_type": "code",
   "execution_count": 134,
   "metadata": {},
   "outputs": [],
   "source": [
    "#randomforest can pick up non linear relationship\n",
    "from sklearn.ensemble import RandomForestClassifier\n",
    "rf = RandomForestClassifier(n_estimators=50, min_samples_split=10, random_state=101)\n",
    "\n",
    "#2022 will be my training dataset and 2023 will be my test dataset.  This is a time series dataset\n",
    "# according to google search\n",
    "train = matches[matches['date'] < '2022-01-01']\n",
    "test = matches[(matches['date'] > '2022-01-01' ) & (matches['date'] <= '2023-01-01')]\n",
    "val = matches[matches['date'] > '2023-01-01']"
   ]
  },
  {
   "cell_type": "code",
   "execution_count": 135,
   "metadata": {},
   "outputs": [
    {
     "data": {
      "text/html": [
       "<style>#sk-container-id-2 {color: black;background-color: white;}#sk-container-id-2 pre{padding: 0;}#sk-container-id-2 div.sk-toggleable {background-color: white;}#sk-container-id-2 label.sk-toggleable__label {cursor: pointer;display: block;width: 100%;margin-bottom: 0;padding: 0.3em;box-sizing: border-box;text-align: center;}#sk-container-id-2 label.sk-toggleable__label-arrow:before {content: \"▸\";float: left;margin-right: 0.25em;color: #696969;}#sk-container-id-2 label.sk-toggleable__label-arrow:hover:before {color: black;}#sk-container-id-2 div.sk-estimator:hover label.sk-toggleable__label-arrow:before {color: black;}#sk-container-id-2 div.sk-toggleable__content {max-height: 0;max-width: 0;overflow: hidden;text-align: left;background-color: #f0f8ff;}#sk-container-id-2 div.sk-toggleable__content pre {margin: 0.2em;color: black;border-radius: 0.25em;background-color: #f0f8ff;}#sk-container-id-2 input.sk-toggleable__control:checked~div.sk-toggleable__content {max-height: 200px;max-width: 100%;overflow: auto;}#sk-container-id-2 input.sk-toggleable__control:checked~label.sk-toggleable__label-arrow:before {content: \"▾\";}#sk-container-id-2 div.sk-estimator input.sk-toggleable__control:checked~label.sk-toggleable__label {background-color: #d4ebff;}#sk-container-id-2 div.sk-label input.sk-toggleable__control:checked~label.sk-toggleable__label {background-color: #d4ebff;}#sk-container-id-2 input.sk-hidden--visually {border: 0;clip: rect(1px 1px 1px 1px);clip: rect(1px, 1px, 1px, 1px);height: 1px;margin: -1px;overflow: hidden;padding: 0;position: absolute;width: 1px;}#sk-container-id-2 div.sk-estimator {font-family: monospace;background-color: #f0f8ff;border: 1px dotted black;border-radius: 0.25em;box-sizing: border-box;margin-bottom: 0.5em;}#sk-container-id-2 div.sk-estimator:hover {background-color: #d4ebff;}#sk-container-id-2 div.sk-parallel-item::after {content: \"\";width: 100%;border-bottom: 1px solid gray;flex-grow: 1;}#sk-container-id-2 div.sk-label:hover label.sk-toggleable__label {background-color: #d4ebff;}#sk-container-id-2 div.sk-serial::before {content: \"\";position: absolute;border-left: 1px solid gray;box-sizing: border-box;top: 0;bottom: 0;left: 50%;z-index: 0;}#sk-container-id-2 div.sk-serial {display: flex;flex-direction: column;align-items: center;background-color: white;padding-right: 0.2em;padding-left: 0.2em;position: relative;}#sk-container-id-2 div.sk-item {position: relative;z-index: 1;}#sk-container-id-2 div.sk-parallel {display: flex;align-items: stretch;justify-content: center;background-color: white;position: relative;}#sk-container-id-2 div.sk-item::before, #sk-container-id-2 div.sk-parallel-item::before {content: \"\";position: absolute;border-left: 1px solid gray;box-sizing: border-box;top: 0;bottom: 0;left: 50%;z-index: -1;}#sk-container-id-2 div.sk-parallel-item {display: flex;flex-direction: column;z-index: 1;position: relative;background-color: white;}#sk-container-id-2 div.sk-parallel-item:first-child::after {align-self: flex-end;width: 50%;}#sk-container-id-2 div.sk-parallel-item:last-child::after {align-self: flex-start;width: 50%;}#sk-container-id-2 div.sk-parallel-item:only-child::after {width: 0;}#sk-container-id-2 div.sk-dashed-wrapped {border: 1px dashed gray;margin: 0 0.4em 0.5em 0.4em;box-sizing: border-box;padding-bottom: 0.4em;background-color: white;}#sk-container-id-2 div.sk-label label {font-family: monospace;font-weight: bold;display: inline-block;line-height: 1.2em;}#sk-container-id-2 div.sk-label-container {text-align: center;}#sk-container-id-2 div.sk-container {/* jupyter's `normalize.less` sets `[hidden] { display: none; }` but bootstrap.min.css set `[hidden] { display: none !important; }` so we also need the `!important` here to be able to override the default hidden behavior on the sphinx rendered scikit-learn.org. See: https://github.com/scikit-learn/scikit-learn/issues/21755 */display: inline-block !important;position: relative;}#sk-container-id-2 div.sk-text-repr-fallback {display: none;}</style><div id=\"sk-container-id-2\" class=\"sk-top-container\"><div class=\"sk-text-repr-fallback\"><pre>RandomForestClassifier(min_samples_split=10, n_estimators=50, random_state=101)</pre><b>In a Jupyter environment, please rerun this cell to show the HTML representation or trust the notebook. <br />On GitHub, the HTML representation is unable to render, please try loading this page with nbviewer.org.</b></div><div class=\"sk-container\" hidden><div class=\"sk-item\"><div class=\"sk-estimator sk-toggleable\"><input class=\"sk-toggleable__control sk-hidden--visually\" id=\"sk-estimator-id-2\" type=\"checkbox\" checked><label for=\"sk-estimator-id-2\" class=\"sk-toggleable__label sk-toggleable__label-arrow\">RandomForestClassifier</label><div class=\"sk-toggleable__content\"><pre>RandomForestClassifier(min_samples_split=10, n_estimators=50, random_state=101)</pre></div></div></div></div></div>"
      ],
      "text/plain": [
       "RandomForestClassifier(min_samples_split=10, n_estimators=50, random_state=101)"
      ]
     },
     "execution_count": 135,
     "metadata": {},
     "output_type": "execute_result"
    }
   ],
   "source": [
    "predictors = [\"venue_code\", 'opp_code', 'hour', 'day_code']\n",
    "rf.fit(train[predictors], train['target'])       # X, y"
   ]
  },
  {
   "cell_type": "code",
   "execution_count": 136,
   "metadata": {},
   "outputs": [
    {
     "data": {
      "text/plain": [
       "0.42528735632183906"
      ]
     },
     "execution_count": 136,
     "metadata": {},
     "output_type": "execute_result"
    }
   ],
   "source": [
    "#predictions\n",
    "y_pred = rf.predict(test[predictors])\n",
    "from sklearn.metrics import accuracy_score, confusion_matrix, ConfusionMatrixDisplay, classification_report\n",
    "acc = accuracy_score(test['target'], y_pred)\n",
    "acc"
   ]
  },
  {
   "cell_type": "code",
   "execution_count": 137,
   "metadata": {},
   "outputs": [
    {
     "name": "stdout",
     "output_type": "stream",
     "text": [
      "              precision    recall  f1-score   support\n",
      "\n",
      "           0       0.28      0.22      0.25       180\n",
      "           1       0.49      0.53      0.51       258\n",
      "           2       0.43      0.47      0.45       258\n",
      "\n",
      "    accuracy                           0.43       696\n",
      "   macro avg       0.40      0.40      0.40       696\n",
      "weighted avg       0.42      0.43      0.42       696\n",
      "\n"
     ]
    }
   ],
   "source": [
    "print(classification_report(test['target'], y_pred))"
   ]
  },
  {
   "cell_type": "code",
   "execution_count": 138,
   "metadata": {},
   "outputs": [
    {
     "data": {
      "image/png": "[encoded data removed]",
      "text/plain": [
       "<Figure size 640x480 with 2 Axes>"
      ]
     },
     "metadata": {},
     "output_type": "display_data"
    }
   ],
   "source": [
    "cm = confusion_matrix(test['target'], y_pred)\n",
    "labels = ['D', 'L', 'W']\n",
    "disp = ConfusionMatrixDisplay(confusion_matrix=cm, display_labels=labels)\n",
    "disp.plot()\n",
    "plt.show()"
   ]
  },
  {
   "cell_type": "markdown",
   "metadata": {},
   "source": [
    "### Let's add some predictors"
   ]
  },
  {
   "cell_type": "code",
   "execution_count": 140,
   "metadata": {},
   "outputs": [
    {
     "data": {
      "text/html": [
       "<style>#sk-container-id-3 {color: black;background-color: white;}#sk-container-id-3 pre{padding: 0;}#sk-container-id-3 div.sk-toggleable {background-color: white;}#sk-container-id-3 label.sk-toggleable__label {cursor: pointer;display: block;width: 100%;margin-bottom: 0;padding: 0.3em;box-sizing: border-box;text-align: center;}#sk-container-id-3 label.sk-toggleable__label-arrow:before {content: \"▸\";float: left;margin-right: 0.25em;color: #696969;}#sk-container-id-3 label.sk-toggleable__label-arrow:hover:before {color: black;}#sk-container-id-3 div.sk-estimator:hover label.sk-toggleable__label-arrow:before {color: black;}#sk-container-id-3 div.sk-toggleable__content {max-height: 0;max-width: 0;overflow: hidden;text-align: left;background-color: #f0f8ff;}#sk-container-id-3 div.sk-toggleable__content pre {margin: 0.2em;color: black;border-radius: 0.25em;background-color: #f0f8ff;}#sk-container-id-3 input.sk-toggleable__control:checked~div.sk-toggleable__content {max-height: 200px;max-width: 100%;overflow: auto;}#sk-container-id-3 input.sk-toggleable__control:checked~label.sk-toggleable__label-arrow:before {content: \"▾\";}#sk-container-id-3 div.sk-estimator input.sk-toggleable__control:checked~label.sk-toggleable__label {background-color: #d4ebff;}#sk-container-id-3 div.sk-label input.sk-toggleable__control:checked~label.sk-toggleable__label {background-color: #d4ebff;}#sk-container-id-3 input.sk-hidden--visually {border: 0;clip: rect(1px 1px 1px 1px);clip: rect(1px, 1px, 1px, 1px);height: 1px;margin: -1px;overflow: hidden;padding: 0;position: absolute;width: 1px;}#sk-container-id-3 div.sk-estimator {font-family: monospace;background-color: #f0f8ff;border: 1px dotted black;border-radius: 0.25em;box-sizing: border-box;margin-bottom: 0.5em;}#sk-container-id-3 div.sk-estimator:hover {background-color: #d4ebff;}#sk-container-id-3 div.sk-parallel-item::after {content: \"\";width: 100%;border-bottom: 1px solid gray;flex-grow: 1;}#sk-container-id-3 div.sk-label:hover label.sk-toggleable__label {background-color: #d4ebff;}#sk-container-id-3 div.sk-serial::before {content: \"\";position: absolute;border-left: 1px solid gray;box-sizing: border-box;top: 0;bottom: 0;left: 50%;z-index: 0;}#sk-container-id-3 div.sk-serial {display: flex;flex-direction: column;align-items: center;background-color: white;padding-right: 0.2em;padding-left: 0.2em;position: relative;}#sk-container-id-3 div.sk-item {position: relative;z-index: 1;}#sk-container-id-3 div.sk-parallel {display: flex;align-items: stretch;justify-content: center;background-color: white;position: relative;}#sk-container-id-3 div.sk-item::before, #sk-container-id-3 div.sk-parallel-item::before {content: \"\";position: absolute;border-left: 1px solid gray;box-sizing: border-box;top: 0;bottom: 0;left: 50%;z-index: -1;}#sk-container-id-3 div.sk-parallel-item {display: flex;flex-direction: column;z-index: 1;position: relative;background-color: white;}#sk-container-id-3 div.sk-parallel-item:first-child::after {align-self: flex-end;width: 50%;}#sk-container-id-3 div.sk-parallel-item:last-child::after {align-self: flex-start;width: 50%;}#sk-container-id-3 div.sk-parallel-item:only-child::after {width: 0;}#sk-container-id-3 div.sk-dashed-wrapped {border: 1px dashed gray;margin: 0 0.4em 0.5em 0.4em;box-sizing: border-box;padding-bottom: 0.4em;background-color: white;}#sk-container-id-3 div.sk-label label {font-family: monospace;font-weight: bold;display: inline-block;line-height: 1.2em;}#sk-container-id-3 div.sk-label-container {text-align: center;}#sk-container-id-3 div.sk-container {/* jupyter's `normalize.less` sets `[hidden] { display: none; }` but bootstrap.min.css set `[hidden] { display: none !important; }` so we also need the `!important` here to be able to override the default hidden behavior on the sphinx rendered scikit-learn.org. See: https://github.com/scikit-learn/scikit-learn/issues/21755 */display: inline-block !important;position: relative;}#sk-container-id-3 div.sk-text-repr-fallback {display: none;}</style><div id=\"sk-container-id-3\" class=\"sk-top-container\"><div class=\"sk-text-repr-fallback\"><pre>RandomForestClassifier(min_samples_split=10, n_estimators=50, random_state=101)</pre><b>In a Jupyter environment, please rerun this cell to show the HTML representation or trust the notebook. <br />On GitHub, the HTML representation is unable to render, please try loading this page with nbviewer.org.</b></div><div class=\"sk-container\" hidden><div class=\"sk-item\"><div class=\"sk-estimator sk-toggleable\"><input class=\"sk-toggleable__control sk-hidden--visually\" id=\"sk-estimator-id-3\" type=\"checkbox\" checked><label for=\"sk-estimator-id-3\" class=\"sk-toggleable__label sk-toggleable__label-arrow\">RandomForestClassifier</label><div class=\"sk-toggleable__content\"><pre>RandomForestClassifier(min_samples_split=10, n_estimators=50, random_state=101)</pre></div></div></div></div></div>"
      ],
      "text/plain": [
       "RandomForestClassifier(min_samples_split=10, n_estimators=50, random_state=101)"
      ]
     },
     "execution_count": 140,
     "metadata": {},
     "output_type": "execute_result"
    }
   ],
   "source": [
    "#added gf, ga, sh, sot\n",
    "predictors = [\"venue_code\", 'opp_code', 'hour', 'day_code', 'gf', 'ga', 'sh', 'sot']\n",
    "rf.fit(train[predictors], train['target'])     "
   ]
  },
  {
   "cell_type": "code",
   "execution_count": 141,
   "metadata": {},
   "outputs": [
    {
     "data": {
      "text/plain": [
       "0.9985632183908046"
      ]
     },
     "execution_count": 141,
     "metadata": {},
     "output_type": "execute_result"
    }
   ],
   "source": [
    "#predictions\n",
    "y_pred = rf.predict(test[predictors])\n",
    "from sklearn.metrics import accuracy_score, confusion_matrix, ConfusionMatrixDisplay, classification_report\n",
    "acc = accuracy_score(test['target'], y_pred)\n",
    "acc"
   ]
  },
  {
   "cell_type": "code",
   "execution_count": 142,
   "metadata": {},
   "outputs": [
    {
     "name": "stdout",
     "output_type": "stream",
     "text": [
      "              precision    recall  f1-score   support\n",
      "\n",
      "           0       0.99      1.00      1.00       180\n",
      "           1       1.00      1.00      1.00       258\n",
      "           2       1.00      1.00      1.00       258\n",
      "\n",
      "    accuracy                           1.00       696\n",
      "   macro avg       1.00      1.00      1.00       696\n",
      "weighted avg       1.00      1.00      1.00       696\n",
      "\n"
     ]
    }
   ],
   "source": [
    "print(classification_report(test['target'], y_pred))"
   ]
  },
  {
   "cell_type": "markdown",
   "metadata": {},
   "source": [
    "The second model with venue, opposition, hour, day_code, goals for, goals against, shot and shots on targets as predictors performed very well ie 100%. <br>\n",
    "let's test with our validation set. I'll call validation predition y_val_pred"
   ]
  },
  {
   "cell_type": "code",
   "execution_count": 144,
   "metadata": {},
   "outputs": [
    {
     "data": {
      "text/plain": [
       "0.9954954954954955"
      ]
     },
     "execution_count": 144,
     "metadata": {},
     "output_type": "execute_result"
    }
   ],
   "source": [
    "y_val_pred = rf.predict(val[predictors])\n",
    "from sklearn.metrics import accuracy_score, confusion_matrix, ConfusionMatrixDisplay, classification_report\n",
    "acc = accuracy_score(val['target'], y_val_pred)\n",
    "acc"
   ]
  },
  {
   "cell_type": "code",
   "execution_count": 146,
   "metadata": {},
   "outputs": [
    {
     "name": "stdout",
     "output_type": "stream",
     "text": [
      "              precision    recall  f1-score   support\n",
      "\n",
      "           0       0.98      1.00      0.99        52\n",
      "           1       1.00      0.99      0.99        85\n",
      "           2       1.00      1.00      1.00        85\n",
      "\n",
      "    accuracy                           1.00       222\n",
      "   macro avg       0.99      1.00      0.99       222\n",
      "weighted avg       1.00      1.00      1.00       222\n",
      "\n"
     ]
    }
   ],
   "source": [
    "print(classification_report(val['target'], y_val_pred))"
   ]
  },
  {
   "cell_type": "code",
   "execution_count": 147,
   "metadata": {},
   "outputs": [
    {
     "data": {
      "image/png": "[encoded data removed]",
      "text/plain": [
       "<Figure size 640x480 with 2 Axes>"
      ]
     },
     "metadata": {},
     "output_type": "display_data"
    }
   ],
   "source": [
    "cm = confusion_matrix(val['target'], y_val_pred)\n",
    "labels = ['D', 'L', 'W']\n",
    "disp = ConfusionMatrixDisplay(confusion_matrix=cm, display_labels=labels)\n",
    "disp.plot()\n",
    "plt.show()"
   ]
  },
  {
   "cell_type": "markdown",
   "metadata": {},
   "source": [
    "`Summary` : There was only one match that was misclassified. A Loss outcome was predicted as a Win. <br>\n",
    "It looks like our Random Forest Classifier model with venue_code, opp_code, hour, day_code, gf, ga, sh, sot gives the best outcome."
   ]
  },
  {
   "cell_type": "markdown",
   "metadata": {},
   "source": [
    "## Trying a Neural Network"
   ]
  },
  {
   "cell_type": "code",
   "execution_count": null,
   "metadata": {},
   "outputs": [],
   "source": []
  },
  {
   "cell_type": "code",
   "execution_count": null,
   "metadata": {},
   "outputs": [],
   "source": []
  },
  {
   "cell_type": "code",
   "execution_count": null,
   "metadata": {},
   "outputs": [],
   "source": []
  },
  {
   "cell_type": "code",
   "execution_count": null,
   "metadata": {},
   "outputs": [],
   "source": []
  },
  {
   "cell_type": "code",
   "execution_count": null,
   "metadata": {},
   "outputs": [],
   "source": []
  },
  {
   "cell_type": "code",
   "execution_count": null,
   "metadata": {},
   "outputs": [],
   "source": []
  },
  {
   "cell_type": "markdown",
   "metadata": {},
   "source": []
  }
 ],
 "metadata": {
  "kernelspec": {
   "display_name": "Python 3.10.9 ('capstone')",
   "language": "python",
   "name": "python3"
  },
  "language_info": {
   "codemirror_mode": {
    "name": "ipython",
    "version": 3
   },
   "file_extension": ".py",
   "mimetype": "text/x-python",
   "name": "python",
   "nbconvert_exporter": "python",
   "pygments_lexer": "ipython3",
   "version": "3.10.9"
  },
  "orig_nbformat": 4,
  "vscode": {
   "interpreter": {
    "hash": "d0fc0c767f5a2f5f7b2bdfd3468c66f14879b98ae59fb74c7b995381ec5229e2"
   }
  }
 },
 "nbformat": 4,
 "nbformat_minor": 2
}
